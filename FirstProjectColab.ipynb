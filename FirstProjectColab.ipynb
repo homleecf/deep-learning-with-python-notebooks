{
  "nbformat": 4,
  "nbformat_minor": 0,
  "metadata": {
    "colab": {
      "provenance": [],
      "toc_visible": true,
      "authorship_tag": "ABX9TyNCm27j2rogsKrTgYG0UJMR",
      "include_colab_link": true
    },
    "kernelspec": {
      "name": "python3",
      "display_name": "Python 3"
    },
    "language_info": {
      "name": "python"
    }
  },
  "cells": [
    {
      "cell_type": "markdown",
      "metadata": {
        "id": "view-in-github",
        "colab_type": "text"
      },
      "source": [
        "<a href=\"https://colab.research.google.com/github/homleecf/deep-learning-with-python-notebooks/blob/master/FirstProjectColab.ipynb\" target=\"_parent\"><img src=\"https://colab.research.google.com/assets/colab-badge.svg\" alt=\"Open In Colab\"/></a>"
      ]
    },
    {
      "cell_type": "code",
      "execution_count": 1,
      "metadata": {
        "colab": {
          "base_uri": "https://localhost:8080/"
        },
        "id": "aVyeZYctyhp_",
        "outputId": "7e2086a4-dad3-4798-856a-dbc333a8b025"
      },
      "outputs": [
        {
          "output_type": "stream",
          "name": "stdout",
          "text": [
            "{\n",
            "  \"ip\": \"34.48.158.13\",\n",
            "  \"hostname\": \"13.158.48.34.bc.googleusercontent.com\",\n",
            "  \"city\": \"Washington\",\n",
            "  \"region\": \"District of Columbia\",\n",
            "  \"country\": \"US\",\n",
            "  \"loc\": \"38.8951,-77.0364\",\n",
            "  \"org\": \"AS396982 Google LLC\",\n",
            "  \"postal\": \"20004\",\n",
            "  \"timezone\": \"America/New_York\",\n",
            "  \"readme\": \"https://ipinfo.io/missingauth\"\n",
            "}"
          ]
        }
      ],
      "source": [
        "!curl ipinfo.io"
      ]
    },
    {
      "cell_type": "code",
      "source": [
        "print(\"hello,world\")"
      ],
      "metadata": {
        "colab": {
          "base_uri": "https://localhost:8080/"
        },
        "id": "DBxfu2qfzCdq",
        "outputId": "c3100a0e-142d-4646-9675-a5fdd1b55c23"
      },
      "execution_count": 2,
      "outputs": [
        {
          "output_type": "stream",
          "name": "stdout",
          "text": [
            "hello,world\n"
          ]
        }
      ]
    },
    {
      "cell_type": "markdown",
      "source": [
        "# **title**\n",
        "markdown\n"
      ],
      "metadata": {
        "id": "PGsJWvttzG2_"
      }
    }
  ]
}